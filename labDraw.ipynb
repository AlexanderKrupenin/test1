{
 "cells": [
  {
   "attachments": {},
   "cell_type": "markdown",
   "metadata": {},
   "source": [
    "# Рисование в консоли"
   ]
  },
  {
   "cell_type": "code",
   "execution_count": 364,
   "metadata": {},
   "outputs": [
    {
     "name": "stdout",
     "output_type": "stream",
     "text": [
      "*************************\n"
     ]
    }
   ],
   "source": [
    "# линия\n",
    "w = 25\n",
    "print('*' * w)"
   ]
  },
  {
   "cell_type": "code",
   "execution_count": 365,
   "metadata": {},
   "outputs": [
    {
     "name": "stdout",
     "output_type": "stream",
     "text": [
      "******************************\n",
      "******************************\n",
      "******************************\n",
      "******************************\n",
      "******************************\n",
      "******************************\n",
      "******************************\n",
      "******************************\n"
     ]
    }
   ],
   "source": [
    "# прямоугольник\n",
    "h = 8\n",
    "w = 30\n",
    "c = '*'\n",
    "for r in range(h):\n",
    "    print(c * w)"
   ]
  },
  {
   "cell_type": "code",
   "execution_count": 366,
   "metadata": {},
   "outputs": [
    {
     "name": "stdout",
     "output_type": "stream",
     "text": [
      "██████████████████████████████\n",
      "█                            █\n",
      "█                            █\n",
      "█                            █\n",
      "█                            █\n",
      "█                            █\n",
      "█                            █\n",
      "█                            █\n"
     ]
    }
   ],
   "source": [
    "# прямоугольник\n",
    "h = 8\n",
    "w = 30\n",
    "c = '█'\n",
    "f = False\n",
    "for r in range(h):\n",
    "    if r == 0:\n",
    "        print(c * w)\n",
    "    else:\n",
    "        print(c + ' ' * (w-2) + c)"
   ]
  },
  {
   "attachments": {},
   "cell_type": "markdown",
   "metadata": {},
   "source": [
    "## Дз рисование"
   ]
  },
  {
   "cell_type": "code",
   "execution_count": 367,
   "metadata": {},
   "outputs": [
    {
     "name": "stdout",
     "output_type": "stream",
     "text": [
      "******\n",
      "*****\n",
      "****\n",
      "***\n",
      "**\n",
      "*\n",
      "\n"
     ]
    }
   ],
   "source": [
    "# треульник\n",
    "h = 4\n",
    "w = 7\n",
    "c = '*'\n",
    "while w > 0 and h < 9:\n",
    "    h = h - 1\n",
    "    w = w -1\n",
    "    print(c * w)"
   ]
  },
  {
   "cell_type": "code",
   "execution_count": 368,
   "metadata": {},
   "outputs": [
    {
     "name": "stdout",
     "output_type": "stream",
     "text": [
      "*\n",
      "**\n",
      "***\n",
      "****\n",
      "*****\n",
      "******\n"
     ]
    }
   ],
   "source": [
    "# треульник\n",
    "h = 4\n",
    "w = 0\n",
    "c = '*'\n",
    "while w >= 0 and h < 10:\n",
    "    h = h + 1\n",
    "    w = w + 1\n",
    "    print(c * w)"
   ]
  },
  {
   "cell_type": "code",
   "execution_count": 369,
   "metadata": {},
   "outputs": [
    {
     "name": "stdout",
     "output_type": "stream",
     "text": [
      "     *\n",
      "    **\n",
      "   ***\n",
      "  ****\n",
      " *****\n",
      "******\n"
     ]
    }
   ],
   "source": [
    "# треульник\n",
    "h = 1\n",
    "w = 6\n",
    "for h in range(1,w+1):\n",
    "      print(\" \"* (w-h) + \"*\"*h)"
   ]
  },
  {
   "cell_type": "code",
   "execution_count": 370,
   "metadata": {},
   "outputs": [
    {
     "name": "stdout",
     "output_type": "stream",
     "text": [
      "  ******\n",
      "   *****\n",
      "    ****\n",
      "     ***\n",
      "      **\n",
      "       *\n",
      "        \n"
     ]
    }
   ],
   "source": [
    "# треульник\n",
    "h = 4\n",
    "w = 7\n",
    "c = ' '\n",
    "num = 1\n",
    "while w > 0 and h < 9:\n",
    "    h = h - 1\n",
    "    w = w - 1\n",
    "    num = num + 1\n",
    "    print(c * num + \"*\"*w)"
   ]
  },
  {
   "cell_type": "code",
   "execution_count": 371,
   "metadata": {},
   "outputs": [
    {
     "name": "stdout",
     "output_type": "stream",
     "text": [
      "██████████████████████████████\n",
      "█                             \n",
      "██████████████████████████████\n",
      "                             █\n",
      "██████████████████████████████\n",
      "█                             \n",
      "██████████████████████████████\n",
      "                             █\n",
      "██████████████████████████████\n",
      "█                             \n",
      "██████████████████████████████\n",
      "                             █\n",
      "██████████████████████████████\n",
      "█                             \n",
      "██████████████████████████████\n",
      "                             █\n",
      "██████████████████████████████\n",
      "█                             \n"
     ]
    }
   ],
   "source": [
    "# змейка\n",
    "h = 10\n",
    "w = 30\n",
    "c = '█'\n",
    "pustota = ' '\n",
    "f = False\n",
    "num = 0\n",
    "odinarnii = 1\n",
    "while num < h:\n",
    "    num = num + 1\n",
    "    if num % 2 == 0 and odinarnii == 1:\n",
    "        print (c*w)\n",
    "        print (c+pustota*(w-1))\n",
    "        odinarnii = 2\n",
    "    if num % 2 != 0 and odinarnii == 2:\n",
    "        print (c*w)\n",
    "        print (pustota*(w-1)+c)\n",
    "        odinarnii = 1"
   ]
  },
  {
   "cell_type": "code",
   "execution_count": 372,
   "metadata": {},
   "outputs": [
    {
     "ename": "TypeError",
     "evalue": "'str' object is not callable",
     "output_type": "error",
     "traceback": [
      "\u001b[1;31m---------------------------------------------------------------------------\u001b[0m",
      "\u001b[1;31mTypeError\u001b[0m                                 Traceback (most recent call last)",
      "Cell \u001b[1;32mIn[372], line 21\u001b[0m\n\u001b[0;32m     19\u001b[0m \u001b[39mwhile\u001b[39;00m num_alfavit \u001b[39m<\u001b[39m h:\n\u001b[0;32m     20\u001b[0m     num_alfavit \u001b[39m=\u001b[39m num_alfavit \u001b[39m+\u001b[39m \u001b[39m1\u001b[39m\n\u001b[1;32m---> 21\u001b[0m     numerasia_alfavit  \u001b[39m=\u001b[39m \u001b[39mstr\u001b[39;49m(numerasia_alfavit)\n\u001b[0;32m     22\u001b[0m     \u001b[39mlist\u001b[39m \u001b[39m=\u001b[39m \u001b[39mlist\u001b[39m \u001b[39m+\u001b[39m \u001b[39mchr\u001b[39m(i\u001b[39m+\u001b[39mnum_alfavit)\u001b[39m+\u001b[39m \u001b[39m\"\u001b[39m\u001b[39m \u001b[39m\u001b[39m\"\u001b[39m\n\u001b[0;32m     23\u001b[0m \u001b[39mprint\u001b[39m(\u001b[39m\"\u001b[39m\u001b[39m | \u001b[39m\u001b[39m\"\u001b[39m\u001b[39m+\u001b[39m\u001b[39mlist\u001b[39m[\u001b[39m0\u001b[39m:\u001b[39m15\u001b[39m]\u001b[39m+\u001b[39m\u001b[39m\"\u001b[39m\u001b[39m| \u001b[39m\u001b[39m\"\u001b[39m)\n",
      "\u001b[1;31mTypeError\u001b[0m: 'str' object is not callable"
     ]
    }
   ],
   "source": [
    "# шахматы\n",
    "h = 7\n",
    "w = 4\n",
    "white = '██'\n",
    "black = '  '\n",
    "cherta = '──'\n",
    "num = 0\n",
    "chet = 1\n",
    "\n",
    "num_alfavit = 0\n",
    "numerasia = \"\"\n",
    "numerasia_alfavit = \"\"\n",
    "odinarnii = 1\n",
    "first = '`'\n",
    "i = ord(first)\n",
    "\n",
    "list = ''\n",
    "\n",
    "while num_alfavit < h:\n",
    "    num_alfavit = num_alfavit + 1\n",
    "    numerasia_alfavit  = str(numerasia_alfavit)\n",
    "    list = list + chr(i+num_alfavit)+ \" \"\n",
    "print(\" | \"+list[0:15]+\"| \")\n",
    "print(\"  \"+cherta*w*2)\n",
    "\n",
    "while num <= h:\n",
    "    numerasia = str(chet)\n",
    "    if num % 2 == 0 and odinarnii == 1:\n",
    "        print (numerasia+\"│\"+(black+white)*w+\"│\"+numerasia)\n",
    "        odinarnii = 2\n",
    "    if num % 2 != 0 and odinarnii == 2:\n",
    "        print (numerasia+\"│\"+(white+black)*w+\"│\"+numerasia)\n",
    "        odinarnii = 1\n",
    "    num = num + 1\n",
    "    chet = chet + 1\n",
    "print(\"  \"+cherta*w*2)\n",
    "print(\" | \"+list[0:15]+\"| \")"
   ]
  },
  {
   "cell_type": "code",
   "execution_count": null,
   "metadata": {},
   "outputs": [
    {
     "name": "stdout",
     "output_type": "stream",
     "text": [
      "         4444444\n",
      "          33333\n",
      "           222\n",
      "            1\n",
      "            1\n",
      "           222\n",
      "          33333\n",
      "         4444444\n"
     ]
    }
   ],
   "source": [
    "# песочные часы\n",
    "h = 8\n",
    "w = 6\n",
    "i = 4\n",
    "c = '█'\n",
    "c1 = ' '\n",
    "test = 0\n",
    "pustota = ' '\n",
    "num\n",
    "while w >= 0 and h <= 8:\n",
    "    while test <= 4:\n",
    "        h = h - 1\n",
    "        w = w - 2\n",
    "        i1 = str(i)\n",
    "        num = num + 1\n",
    "        if(i != 0):\n",
    "            print(c1 * num + i1 * (w+3))\n",
    "        i = i - 1\n",
    "        test = test + 1\n",
    "    i = 1\n",
    "    while test <= 8:\n",
    "        h = h + 1\n",
    "        w = w + 2\n",
    "        i1 = str(i)\n",
    "        num = num - 1\n",
    "        print(c1 * num + i1 * (w+3))\n",
    "        i = i + 1\n",
    "        test = test + 1\n",
    "    break"
   ]
  },
  {
   "cell_type": "code",
   "execution_count": null,
   "metadata": {},
   "outputs": [
    {
     "name": "stdout",
     "output_type": "stream",
     "text": [
      "          \\       /\n",
      "           \\     /\n",
      "            \\   /\n",
      "             \\ /\n",
      "             / \\\n",
      "            /   \\\n",
      "           /     \\\n",
      "          /       \\\n"
     ]
    }
   ],
   "source": [
    "# песочные часы\n",
    "\n",
    "h = 8\n",
    "w = 6\n",
    "i = 4\n",
    "c = '█'\n",
    "c1 = ' '\n",
    "test = 0\n",
    "pustota = ' '\n",
    "num\n",
    "while w >= 0 and h <= 8:\n",
    "    while test <= 4:\n",
    "        h = h - 1\n",
    "        w = w - 2\n",
    "        i1 = str(i)\n",
    "        num = num + 1\n",
    "        if(i != 0 ):\n",
    "            print(c1 * num +\"\\\\\"+ pustota * (w+3)+\"/\")\n",
    "        i = i - 1\n",
    "        test = test + 1\n",
    "    i = 1\n",
    "    while test <= 8:\n",
    "        h = h + 1\n",
    "        w = w + 2\n",
    "        i1 = str(i)\n",
    "        num = num - 1\n",
    "        print(c1 * num +\"/\"+ pustota * (w+3)+\"\\\\\")\n",
    "        i = i + 1\n",
    "        test = test + 1\n",
    "    break"
   ]
  },
  {
   "cell_type": "code",
   "execution_count": null,
   "metadata": {},
   "outputs": [
    {
     "name": "stdout",
     "output_type": "stream",
     "text": [
      "██████████████████████████████\n",
      "█                             \n",
      "██████████████████████████████\n",
      "                             █\n",
      "██████████████████████████████\n",
      "█                             \n",
      "██████████████████████████████\n",
      "                             █\n",
      "██████████████████████████████\n",
      "█                             \n",
      "██████████████████████████████\n",
      "                             █\n",
      "██████████████████████████████\n",
      "█                             \n",
      "██████████████████████████████\n",
      "                             █\n",
      "██████████████████████████████\n",
      "█                             \n"
     ]
    }
   ],
   "source": [
    "# змейка\n",
    "h = 10\n",
    "w = 30\n",
    "c = '█'\n",
    "с1 = 0\n",
    "pustota = ' '\n",
    "f = False\n",
    "num = 0\n",
    "odinarnii = 1\n",
    "while num < h:\n",
    "    num = num + 1\n",
    "    if num % 2 == 0 and odinarnii == 1:\n",
    "        с1 = с1 + 1\n",
    "        с = str (c1)\n",
    "        print (c*w)\n",
    "        print (c+pustota*(w-1))\n",
    "        odinarnii = 2\n",
    "    if num % 2 != 0 and odinarnii == 2:\n",
    "        print (c*w)\n",
    "        print (pustota*(w-1)+c)\n",
    "        odinarnii = 1"
   ]
  },
  {
   "cell_type": "code",
   "execution_count": null,
   "metadata": {},
   "outputs": [
    {
     "name": "stdout",
     "output_type": "stream",
     "text": [
      "1\n",
      "2\n",
      "3\n",
      "4\n",
      "5\n",
      "6\n"
     ]
    }
   ],
   "source": [
    "# песочные часы\n",
    "h = 8\n",
    "w = 6\n",
    "i = 4\n",
    "c1 = ' '\n",
    "test = 0\n",
    "pustota = ' '\n",
    "num\n",
    "while w >= 0 and h <= 8:\n",
    "    while test <= 5:\n",
    "        test = test + 1\n",
    "        с = str (test)\n",
    "        print(с)\n",
    "        с = str (test)\n",
    "    break\n"
   ]
  },
  {
   "cell_type": "code",
   "execution_count": 432,
   "metadata": {},
   "outputs": [
    {
     "name": "stdout",
     "output_type": "stream",
     "text": [
      "  1     2     3     4     5\n",
      "                          5\n",
      "  2                         \n",
      "  1     2     3     4     5\n",
      "                          5\n",
      "  2                         \n",
      "  1     2     3     4     5\n",
      "                          5\n",
      "  2                         \n",
      "  1     2     3     4     5\n",
      "                          5\n",
      "  2                         \n"
     ]
    }
   ],
   "source": [
    "a = ['1', '2', '3', '4', '5']\n",
    "n = 5\n",
    "test = 0 \n",
    "c = '                    '\n",
    "pustota = ' '\n",
    "stop = 0\n",
    "while stop < 10:\n",
    "    if(test == 0):\n",
    "        str_revers = a[0:n]\n",
    "        print(\"  \"+'     '.join(str_revers))\n",
    "        test = 1\n",
    "        stop = stop + 1\n",
    "    if(test == 1):\n",
    "        str_revers = [c] + a[4:5]\n",
    "        print(\" \"+'     '.join(str_revers))\n",
    "        test = 2\n",
    "        stop = stop + 1\n",
    "    if(test == 2):\n",
    "        str_revers = a[1:2] + [c]\n",
    "        print(\"  \"+'     '.join(str_revers))\n",
    "        test = 0\n",
    "        stop = stop + 1"
   ]
  }
 ],
 "metadata": {
  "kernelspec": {
   "display_name": "Python 3",
   "language": "python",
   "name": "python3"
  },
  "language_info": {
   "codemirror_mode": {
    "name": "ipython",
    "version": 3
   },
   "file_extension": ".py",
   "mimetype": "text/x-python",
   "name": "python",
   "nbconvert_exporter": "python",
   "pygments_lexer": "ipython3",
   "version": "3.11.2"
  },
  "orig_nbformat": 4,
  "vscode": {
   "interpreter": {
    "hash": "a01083cf92b876a102f17804cba04c9bfeb05330d4ea0330d77dfa876237a923"
   }
  }
 },
 "nbformat": 4,
 "nbformat_minor": 2
}
