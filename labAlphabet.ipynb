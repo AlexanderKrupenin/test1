{
 "cells": [
  {
   "attachments": {},
   "cell_type": "markdown",
   "metadata": {},
   "source": [
    "# Алфавит RU и EN\n",
    "### вывести алфавит в прямом и обратном порядке через пробел, разными способами"
   ]
  },
  {
   "cell_type": "code",
   "execution_count": 1,
   "metadata": {},
   "outputs": [
    {
     "name": "stdout",
     "output_type": "stream",
     "text": [
      "1067\n",
      "Ы\n"
     ]
    }
   ],
   "source": [
    "print(ord(\"Ы\"))\n",
    "print(chr(1067))"
   ]
  },
  {
   "cell_type": "code",
   "execution_count": 1,
   "metadata": {},
   "outputs": [
    {
     "name": "stdout",
     "output_type": "stream",
     "text": [
      "65\n",
      "90\n",
      "1072\n",
      "1103\n"
     ]
    }
   ],
   "source": [
    "print(ord(\"А\"))\n",
    "print(ord(\"Я\"))\n",
    "print(ord(\"а\"))\n",
    "print(ord(\"я\"))"
   ]
  },
  {
   "attachments": {},
   "cell_type": "markdown",
   "metadata": {},
   "source": [
    "## Вывод по коду аски"
   ]
  },
  {
   "cell_type": "code",
   "execution_count": 3,
   "metadata": {},
   "outputs": [
    {
     "name": "stdout",
     "output_type": "stream",
     "text": [
      "А Б В Г Д Е Ж З И Й К Л М Н О П Р С Т У Ф Х Ц Ч Ш Щ Ъ Ы Ь Э Ю Я\n",
      "Я Ю Э Ь Ы Ъ Щ Ш Ч Ц Х Ф У Т С Р П О Н М Л К Й И З Ж Е Д Г В Б А\n"
     ]
    }
   ],
   "source": [
    "list=[]\n",
    "i = 1040\n",
    "while i <= 1071:\n",
    "    j = chr(i)\n",
    "    list.append(j)\n",
    "    i = i + 1\n",
    "print(' '.join(list))\n",
    "\n",
    "list_reverse=[]\n",
    "i_reverse = 1071\n",
    "while i_reverse >= 1040:\n",
    "    j_reverse = chr(i_reverse)\n",
    "    list_reverse.append(j_reverse)\n",
    "    i_reverse = i_reverse - 1\n",
    "print(' '.join(list_reverse))\n"
   ]
  },
  {
   "attachments": {},
   "cell_type": "markdown",
   "metadata": {},
   "source": [
    "## Вывод по кодку аски и заданым параметрам в списке"
   ]
  },
  {
   "cell_type": "code",
   "execution_count": 4,
   "metadata": {},
   "outputs": [
    {
     "name": "stdout",
     "output_type": "stream",
     "text": [
      "А Б В Г Д Е Ж З И Й К Л М Н О П Р С Т У Ф Х Ц Ч Ш Щ Ъ Ы Ь Э Ю Я\n",
      "Я Ю Э Ь Ы Ъ Щ Ш Ч Ц Х Ф У Т С Р П О Н М Л К Й И З Ж Е Д Г В Б А\n"
     ]
    }
   ],
   "source": [
    "list=[]\n",
    "first = 'А'\n",
    "second = 'Я'\n",
    "i = ord(first)\n",
    "j = ord(second)\n",
    "while i <= j:\n",
    "    list.append(chr(i))\n",
    "    i = i + 1\n",
    "print(' '.join(list))\n",
    "\n",
    "list_reverse=[]\n",
    "first_reverse = 'А'\n",
    "second_reverse = 'Я'\n",
    "i_reverse = ord(first_reverse)\n",
    "j_reverse = ord(second_reverse)\n",
    "while i_reverse <= j_reverse:\n",
    "    list_reverse.append(chr(j_reverse))\n",
    "    j_reverse = j_reverse - 1\n",
    "print(' '.join(list_reverse))\n"
   ]
  },
  {
   "attachments": {},
   "cell_type": "markdown",
   "metadata": {},
   "source": [
    "## Вывод по кодку аски и заданым параметрам в строке"
   ]
  },
  {
   "cell_type": "code",
   "execution_count": 5,
   "metadata": {},
   "outputs": [
    {
     "name": "stdout",
     "output_type": "stream",
     "text": [
      "A B C D E F G H I J K L M N O P Q R S T U V W X Y Z \n",
      " Z Y X W V U T S R Q P O N M L K J I H G F E D C B A\n"
     ]
    }
   ],
   "source": [
    "first = 'A'\n",
    "second = 'Z'\n",
    "i = ord(first)\n",
    "j = ord(second)\n",
    "\n",
    "list = ''\n",
    "list_reverse = ''\n",
    "for i in range(i,j+1):\n",
    "    list = list + chr(i)+ \" \"\n",
    "    list_reverse = list[::-1]\n",
    "print(list)\n",
    "print(list_reverse)\n"
   ]
  },
  {
   "attachments": {},
   "cell_type": "markdown",
   "metadata": {},
   "source": [
    "## Короткая версия"
   ]
  },
  {
   "cell_type": "code",
   "execution_count": 6,
   "metadata": {},
   "outputs": [
    {
     "name": "stdout",
     "output_type": "stream",
     "text": [
      "A B C D E F G H I J K L M N O P Q R S T U V W X Y Z \n",
      " Z Y X W V U T S R Q P O N M L K J I H G F E D C B A\n"
     ]
    }
   ],
   "source": [
    "str = \"\"\n",
    "str_revers = \"\"\n",
    "for i in range(ord(\"A\"), ord(\"Z\")+1):\n",
    "    str = str + chr(i)+\" \"\n",
    "    str_revers = str[::-1]\n",
    "print(str)\n",
    "print(str_revers)\n"
   ]
  }
 ],
 "metadata": {
  "kernelspec": {
   "display_name": "Python 3",
   "language": "python",
   "name": "python3"
  },
  "language_info": {
   "codemirror_mode": {
    "name": "ipython",
    "version": 3
   },
   "file_extension": ".py",
   "mimetype": "text/x-python",
   "name": "python",
   "nbconvert_exporter": "python",
   "pygments_lexer": "ipython3",
   "version": "3.11.2"
  },
  "orig_nbformat": 4,
  "vscode": {
   "interpreter": {
    "hash": "a01083cf92b876a102f17804cba04c9bfeb05330d4ea0330d77dfa876237a923"
   }
  }
 },
 "nbformat": 4,
 "nbformat_minor": 2
}
