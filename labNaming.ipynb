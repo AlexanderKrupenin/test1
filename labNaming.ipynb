{
 "cells": [
  {
   "attachments": {},
   "cell_type": "markdown",
   "metadata": {},
   "source": [
    "# Правильный нейминг"
   ]
  },
  {
   "cell_type": "code",
   "execution_count": null,
   "metadata": {},
   "outputs": [],
   "source": [
    "def pv(v,p):\n",
    "    if p == \"f\":\n",
    "        return v >= 56.5\n",
    "    elif p == \"m\":\n",
    "        return v >= 60.5\n",
    "\n",
    "print(pv(54, \"m\"))"
   ]
  },
  {
   "cell_type": "code",
   "execution_count": null,
   "metadata": {},
   "outputs": [],
   "source": [
    "def is_person_pensioner(age: float, sex: str) -> bool:\n",
    "    \"\"\" Вернуть true, если человек пенсионер или false в протвном случае\n",
    "    age - возраст (лет), sex - пол(f - женский пол, m - мужской пол)  \n",
    "    \"\"\"\n",
    "    if sex == \"f\":\n",
    "        return age >= 56.5\n",
    "    elif sex == \"m\":\n",
    "        return age >= 60.5\n",
    "\n",
    "print(is_person_pensioner(54, \"m\"))"
   ]
  },
  {
   "cell_type": "code",
   "execution_count": null,
   "metadata": {},
   "outputs": [],
   "source": [
    "is_person_pensioner()"
   ]
  },
  {
   "cell_type": "code",
   "execution_count": null,
   "metadata": {},
   "outputs": [],
   "source": []
  }
 ],
 "metadata": {
  "kernelspec": {
   "display_name": "Python 3",
   "language": "python",
   "name": "python3"
  },
  "language_info": {
   "name": "python",
   "version": "3.11.2"
  },
  "orig_nbformat": 4,
  "vscode": {
   "interpreter": {
    "hash": "a01083cf92b876a102f17804cba04c9bfeb05330d4ea0330d77dfa876237a923"
   }
  }
 },
 "nbformat": 4,
 "nbformat_minor": 2
}
