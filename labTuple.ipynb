{
 "cells": [
  {
   "attachments": {},
   "cell_type": "markdown",
   "metadata": {},
   "source": [
    "# Кортеж(tuple)\n",
    "Кортеж(tuple) - неизменяемый список (упорядоченный)"
   ]
  },
  {
   "cell_type": "code",
   "execution_count": 5,
   "metadata": {},
   "outputs": [
    {
     "data": {
      "text/plain": [
       "tuple"
      ]
     },
     "execution_count": 5,
     "metadata": {},
     "output_type": "execute_result"
    }
   ],
   "source": [
    "v = 1, 2, 3\n",
    "type(v)"
   ]
  },
  {
   "cell_type": "code",
   "execution_count": 6,
   "metadata": {},
   "outputs": [
    {
     "name": "stdout",
     "output_type": "stream",
     "text": [
      "<class 'tuple'>\n",
      "(1,)\n"
     ]
    }
   ],
   "source": [
    "v = 1, # тока если один элемент\n",
    "type (v)\n",
    "print(type(v))\n",
    "print(v)\n",
    "v = list(range(5))\n",
    "v = tuple(v)"
   ]
  },
  {
   "cell_type": "code",
   "execution_count": 7,
   "metadata": {},
   "outputs": [
    {
     "name": "stdout",
     "output_type": "stream",
     "text": [
      "(1, 2, 3, 4)\n",
      "1\n",
      "2\n",
      "[3, 4]\n"
     ]
    }
   ],
   "source": [
    "params = tuple(range(1, 5))\n",
    "print(params)\n",
    "a, b, *rest = params\n",
    "print(a)\n",
    "print(b)\n",
    "print(rest)"
   ]
  },
  {
   "cell_type": "code",
   "execution_count": 8,
   "metadata": {},
   "outputs": [
    {
     "name": "stdout",
     "output_type": "stream",
     "text": [
      "[(2, 3), (3, 1)]\n"
     ]
    }
   ],
   "source": [
    "points = [(2, 3,), (3, 1)]\n",
    "print(points)"
   ]
  },
  {
   "cell_type": "code",
   "execution_count": 9,
   "metadata": {},
   "outputs": [
    {
     "name": "stdout",
     "output_type": "stream",
     "text": [
      "2,y=3\n",
      "3,y=1\n"
     ]
    }
   ],
   "source": [
    "# (1)\n",
    "for i in range(len(points)):\n",
    "    x = points[i][0]\n",
    "    y = points[i][1]\n",
    "    print(f\"{x},{y=}\")"
   ]
  },
  {
   "cell_type": "code",
   "execution_count": 10,
   "metadata": {},
   "outputs": [
    {
     "name": "stdout",
     "output_type": "stream",
     "text": [
      "2,y=3\n",
      "3,y=1\n"
     ]
    }
   ],
   "source": [
    "# (2)\n",
    "for i in range(len(points)):\n",
    "    x, y = points[i]\n",
    "    print(f\"{x},{y=}\")"
   ]
  },
  {
   "cell_type": "code",
   "execution_count": 11,
   "metadata": {},
   "outputs": [
    {
     "name": "stdout",
     "output_type": "stream",
     "text": [
      "3,y=1\n",
      "3,y=1\n"
     ]
    }
   ],
   "source": [
    "# (3)\n",
    "for i in points:\n",
    "    print(f\"{x},{y=}\")"
   ]
  },
  {
   "cell_type": "code",
   "execution_count": 12,
   "metadata": {},
   "outputs": [
    {
     "name": "stdout",
     "output_type": "stream",
     "text": [
      "1) x=2,y=3\n",
      "2) x=3,y=1\n"
     ]
    }
   ],
   "source": [
    "for n, (x, y) in enumerate(points, start=1):\n",
    "   print(f\"{n}) {x=},{y=}\")"
   ]
  },
  {
   "cell_type": "code",
   "execution_count": 17,
   "metadata": {},
   "outputs": [
    {
     "name": "stdout",
     "output_type": "stream",
     "text": [
      "(2, 3)\n",
      "x=2,y=3\n"
     ]
    }
   ],
   "source": [
    "def print_point(x,y):\n",
    "    print(f\"{x=},{y=}\")\n",
    "print(points[0])\n",
    "print_point(*points[0])"
   ]
  },
  {
   "cell_type": "code",
   "execution_count": 16,
   "metadata": {},
   "outputs": [
    {
     "name": "stdout",
     "output_type": "stream",
     "text": [
      "a=2, b=3, c=1\n",
      "a=3, b=1, c=2\n"
     ]
    }
   ],
   "source": [
    "a, b, c = 1, 2, 3\n",
    "a, b, c = b, c, a\n",
    "print(f\"{a=}, {b=}, {c=}\")\n",
    "a, b, c = b, c, a\n",
    "print(f\"{a=}, {b=}, {c=}\")"
   ]
  }
 ],
 "metadata": {
  "kernelspec": {
   "display_name": "Python 3",
   "language": "python",
   "name": "python3"
  },
  "language_info": {
   "codemirror_mode": {
    "name": "ipython",
    "version": 3
   },
   "file_extension": ".py",
   "mimetype": "text/x-python",
   "name": "python",
   "nbconvert_exporter": "python",
   "pygments_lexer": "ipython3",
   "version": "3.11.2"
  },
  "orig_nbformat": 4
 },
 "nbformat": 4,
 "nbformat_minor": 2
}
