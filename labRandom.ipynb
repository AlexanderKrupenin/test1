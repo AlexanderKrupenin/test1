{
 "cells": [
  {
   "attachments": {},
   "cell_type": "markdown",
   "metadata": {},
   "source": [
    "# Генератор случайных чисел"
   ]
  },
  {
   "cell_type": "code",
   "execution_count": 221,
   "metadata": {},
   "outputs": [],
   "source": [
    "import random\n"
   ]
  },
  {
   "cell_type": "code",
   "execution_count": 222,
   "metadata": {},
   "outputs": [
    {
     "data": {
      "text/plain": [
       "0.4786116125020756"
      ]
     },
     "execution_count": 222,
     "metadata": {},
     "output_type": "execute_result"
    }
   ],
   "source": [
    "#[0.0 : 1.o)\n",
    "random.random()"
   ]
  },
  {
   "cell_type": "code",
   "execution_count": 223,
   "metadata": {},
   "outputs": [
    {
     "data": {
      "text/plain": [
       "644"
      ]
     },
     "execution_count": 223,
     "metadata": {},
     "output_type": "execute_result"
    }
   ],
   "source": [
    "random.randint(100, 999)"
   ]
  },
  {
   "cell_type": "code",
   "execution_count": 224,
   "metadata": {},
   "outputs": [
    {
     "data": {
      "text/plain": [
       "414"
      ]
     },
     "execution_count": 224,
     "metadata": {},
     "output_type": "execute_result"
    }
   ],
   "source": [
    "random.randrange(100, 999)"
   ]
  },
  {
   "cell_type": "code",
   "execution_count": 225,
   "metadata": {},
   "outputs": [
    {
     "name": "stdout",
     "output_type": "stream",
     "text": [
      "[0, 1, 2, 3, 4, 5, 6, 7, 8, 9]\n",
      "[1, 5, 8, 9, 2, 4, 0, 3, 7, 6]\n"
     ]
    }
   ],
   "source": [
    "numbers = list(range(10))\n",
    "print (numbers)\n",
    "random.shuffle(numbers)\n",
    "print (numbers)"
   ]
  },
  {
   "cell_type": "code",
   "execution_count": 226,
   "metadata": {},
   "outputs": [
    {
     "name": "stdout",
     "output_type": "stream",
     "text": [
      "['l']\n",
      "['o', 'e', 'e', 'l', 'o', 'l', 'e', 'l', 'o', 'l', 'H', 'l', 'o', 'o', 'e', 'l', 'l', 'H', 'l', 'e']\n",
      "[0, 6, 1, 2, 7, 0, 4, 3, 2, 6, 7, 8, 5, 8, 8, 8, 8, 8, 1, 4]\n"
     ]
    }
   ],
   "source": [
    "print(random.choices(\"Hello\"))\n",
    "print(random.choices(\"Hello\", k=20))\n",
    "print(random.choices(list(range(10)), k=20))"
   ]
  },
  {
   "attachments": {},
   "cell_type": "markdown",
   "metadata": {},
   "source": [
    "## Генератор пароля"
   ]
  },
  {
   "cell_type": "code",
   "execution_count": 227,
   "metadata": {},
   "outputs": [
    {
     "name": "stdout",
     "output_type": "stream",
     "text": [
      "['h', 'f', '5', 'i', 't', 'g', '4', '4', 't', 'l', 'm', 'r']\n",
      "fh2czq39issl\n",
      "c04j4gskc4c0\n"
     ]
    }
   ],
   "source": [
    "c = \"1234567890qwertyuiopasdfghjklzxcvbnm1qaz2wsx3edc4rfv5tgb6yhn7ujm8ik9ol0p\"\n",
    "random.choice(c)\n",
    "print(list(random.choice(c) for _ in range(12)))\n",
    "\n",
    "print(''.join(random.choice(c) for _ in range(12)))\n",
    "print(''.join(random.choices(c, k = 12)))\n"
   ]
  },
  {
   "attachments": {},
   "cell_type": "markdown",
   "metadata": {},
   "source": [
    "### Придумать свои примеры использования рандома!\n"
   ]
  },
  {
   "cell_type": "code",
   "execution_count": null,
   "metadata": {},
   "outputs": [],
   "source": []
  }
 ],
 "metadata": {
  "kernelspec": {
   "display_name": "Python 3",
   "language": "python",
   "name": "python3"
  },
  "language_info": {
   "codemirror_mode": {
    "name": "ipython",
    "version": 3
   },
   "file_extension": ".py",
   "mimetype": "text/x-python",
   "name": "python",
   "nbconvert_exporter": "python",
   "pygments_lexer": "ipython3",
   "version": "3.11.2"
  },
  "orig_nbformat": 4,
  "vscode": {
   "interpreter": {
    "hash": "a01083cf92b876a102f17804cba04c9bfeb05330d4ea0330d77dfa876237a923"
   }
  }
 },
 "nbformat": 4,
 "nbformat_minor": 2
}
