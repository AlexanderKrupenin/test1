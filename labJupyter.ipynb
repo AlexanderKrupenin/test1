{
 "cells": [
  {
   "attachments": {},
   "cell_type": "markdown",
   "metadata": {},
   "source": [
    "# Магические функции Jupyter Notebok\n",
    "* горячие клавиши\n",
    "* комманды\n",
    "    * ! - коммандная строка\n",
    "    * % - строчная команда\n",
    "    * %% - блочная команда"
   ]
  },
  {
   "cell_type": "code",
   "execution_count": 38,
   "metadata": {},
   "outputs": [
    {
     "data": {
      "text/plain": [
       "'\\nв режиме гавигации по ячейкам\\n# A -  Вставить новую ячейку над текущей\\n# B -  Вставить новую ячейку под текущей\\n# ... TODO\\n\\n'"
      ]
     },
     "execution_count": 38,
     "metadata": {},
     "output_type": "execute_result"
    }
   ],
   "source": [
    "\"\"\"\n",
    "в режиме гавигации по ячейкам\n",
    "# A -  Вставить новую ячейку над текущей\n",
    "# B -  Вставить новую ячейку под текущей\n",
    "# ... TODO\n",
    "\n",
    "\"\"\""
   ]
  },
  {
   "attachments": {},
   "cell_type": "markdown",
   "metadata": {},
   "source": [
    "![jupyter](https://www.python.org/static/img/python-logo@2x.png)"
   ]
  },
  {
   "cell_type": "code",
   "execution_count": 39,
   "metadata": {},
   "outputs": [
    {
     "name": "stdout",
     "output_type": "stream",
     "text": [
      "\n",
      "Microsoft Windows [Version 10.0.19045.2604]\n"
     ]
    }
   ],
   "source": [
    "!ver"
   ]
  },
  {
   "cell_type": "code",
   "execution_count": 40,
   "metadata": {},
   "outputs": [
    {
     "name": "stdout",
     "output_type": "stream",
     "text": [
      "PATH=c:\\Users\\Home-PC\\AppData\\Local\\Programs\\Python\\Python311;c:\\Users\\Home-PC\\AppData\\Roaming\\Python\\Python311\\Scripts;C:\\Windows\\system32;C:\\Windows;C:\\Windows\\System32\\Wbem;C:\\Windows\\System32\\WindowsPowerShell\\v1.0\\;C:\\Windows\\System32\\OpenSSH\\;C:\\Program Files\\Git\\cmd;C:\\Users\\Home-PC\\AppData\\Local\\Programs\\Python\\Python311\\Scripts\\;C:\\Users\\Home-PC\\AppData\\Local\\Programs\\Python\\Python311\\;C:\\Users\\Home-PC\\AppData\\Local\\Microsoft\\WindowsApps;;C:\\Users\\Home-PC\\AppData\\Local\\Programs\\Microsoft VS Code\\bin;C:\\Windows\\system32;C:\\Windows;C:\\Windows\\System32\\Wbem;C:\\Windows\\System32\\WindowsPowerShell\\v1.0\\;C:\\Windows\\System32\\OpenSSH\\;C:\\Program Files\\Git\\cmd;C:\\Users\\Home-PC\\AppData\\Local\\Programs\\Python\\Python311\\Scripts\\;C:\\Users\\Home-PC\\AppData\\Local\\Programs\\Python\\Python311\\;C:\\Users\\Home-PC\\AppData\\Local\\Microsoft\\WindowsApps;;C:\\Users\\Home-PC\\AppData\\Local\\Programs\\Microsoft VS Code\\bin\n"
     ]
    }
   ],
   "source": [
    "!path"
   ]
  },
  {
   "cell_type": "code",
   "execution_count": 41,
   "metadata": {},
   "outputs": [
    {
     "name": "stdout",
     "output_type": "stream",
     "text": [
      "i\t sr\t x\t \n"
     ]
    }
   ],
   "source": [
    "x = 123\n",
    "sr =\"hello\"\n",
    "%who"
   ]
  },
  {
   "cell_type": "code",
   "execution_count": 42,
   "metadata": {},
   "outputs": [
    {
     "data": {
      "text/plain": [
       "'c:\\\\Users\\\\Home-PC\\\\Desktop\\\\УНИВЕР\\\\4 семестр\\\\РКИС\\\\Sem4_Python\\\\Sem4_Python'"
      ]
     },
     "execution_count": 42,
     "metadata": {},
     "output_type": "execute_result"
    }
   ],
   "source": [
    "%pwd"
   ]
  },
  {
   "cell_type": "code",
   "execution_count": 43,
   "metadata": {},
   "outputs": [
    {
     "name": "stdout",
     "output_type": "stream",
     "text": [
      "CPU times: total: 641 ms\n",
      "Wall time: 629 ms\n"
     ]
    }
   ],
   "source": [
    "%%time\n",
    "for i in range(10_000_000):\n",
    "    x += i"
   ]
  },
  {
   "cell_type": "code",
   "execution_count": 44,
   "metadata": {},
   "outputs": [
    {
     "name": "stderr",
     "output_type": "stream",
     "text": [
      "UsageError: %%timeit is a cell magic, but the cell body is empty. Did you mean the line magic %timeit (single %)?\n"
     ]
    }
   ],
   "source": [
    "%%timeit"
   ]
  },
  {
   "cell_type": "code",
   "execution_count": 45,
   "metadata": {},
   "outputs": [
    {
     "data": {
      "text/latex": [
       "$ E = mc^2 $\n",
       "$ c = \\sqrt(a^2 + b^2) $ \n",
       "$ c = \\sqrt(a^2 + b_2) $\n",
       "$$ c = \\sqrt(a^2 + b_2) $$ \n"
      ],
      "text/plain": [
       "<IPython.core.display.Latex object>"
      ]
     },
     "metadata": {},
     "output_type": "display_data"
    }
   ],
   "source": [
    "%%latex\n",
    "$ E = mc^2 $\n",
    "$ c = \\sqrt(a^2 + b^2) $ \n",
    "$ c = \\sqrt(a^2 + b_2) $\n",
    "$$ c = \\sqrt(a^2 + b_2) $$ "
   ]
  },
  {
   "cell_type": "code",
   "execution_count": 46,
   "metadata": {},
   "outputs": [
    {
     "data": {
      "text/html": [
       "<h1>Заголовок 1</h1>\n",
       "<h2>Заголовок 2</h2>\n",
       "<h3>Заголовок 3</h3>\n"
      ],
      "text/plain": [
       "<IPython.core.display.HTML object>"
      ]
     },
     "metadata": {},
     "output_type": "display_data"
    }
   ],
   "source": [
    "%%HTML\n",
    "<h1>Заголовок 1</h1>\n",
    "<h2>Заголовок 2</h2>\n",
    "<h3>Заголовок 3</h3>"
   ]
  },
  {
   "attachments": {},
   "cell_type": "markdown",
   "metadata": {},
   "source": [
    "<h1>Заголовок 1</h1>\n",
    "<h2>Заголовок 2</h2>\n",
    "<h3>Заголовок 3</h3>\n",
    "<p style = \"border: 2px solid\">рамка</ps>\n",
    "<p style = \"color: green\">рамка</ps>"
   ]
  },
  {
   "attachments": {},
   "cell_type": "markdown",
   "metadata": {},
   "source": [
    "Текст что-то, а это `важно`\n",
    "\n",
    "Смотри еще:\n",
    "    * [Правильный нейминг](labNaming.ipynb)"
   ]
  },
  {
   "cell_type": "code",
   "execution_count": null,
   "metadata": {},
   "outputs": [],
   "source": []
  }
 ],
 "metadata": {
  "kernelspec": {
   "display_name": "Python 3",
   "language": "python",
   "name": "python3"
  },
  "language_info": {
   "codemirror_mode": {
    "name": "ipython",
    "version": 3
   },
   "file_extension": ".py",
   "mimetype": "text/x-python",
   "name": "python",
   "nbconvert_exporter": "python",
   "pygments_lexer": "ipython3",
   "version": "3.11.2"
  },
  "orig_nbformat": 4
 },
 "nbformat": 4,
 "nbformat_minor": 2
}
