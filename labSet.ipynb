{
 "cells": [
  {
   "attachments": {},
   "cell_type": "markdown",
   "metadata": {},
   "source": [
    "# Изменяемое множество (set)\n",
    "Изменяемое множество (set) - неупорядоченное изменяемая структура данных уникальных элементов\n",
    "    * неизменяемое множество (frozen)\n",
    "Смотри еще \n",
    "[Кортеж](labTuple.ipynb)"
   ]
  },
  {
   "cell_type": "code",
   "execution_count": 1,
   "metadata": {},
   "outputs": [
    {
     "data": {
      "text/plain": [
       "{'1', '2', '3', '4', 'f', 'h', 'i', 'j', 'o', 's', 'u'}"
      ]
     },
     "execution_count": 1,
     "metadata": {},
     "output_type": "execute_result"
    }
   ],
   "source": [
    "set(\"siofhjsoufhsofh1234\")"
   ]
  },
  {
   "cell_type": "code",
   "execution_count": 2,
   "metadata": {},
   "outputs": [
    {
     "name": "stdout",
     "output_type": "stream",
     "text": [
      "True\n",
      "False\n"
     ]
    }
   ],
   "source": [
    "set({1,2,3,4,5,4,3,2,1,})\n",
    "set(range(5))\n",
    "v = set(range(5))\n",
    "print(3 in v)\n",
    "print(3 not in v) "
   ]
  },
  {
   "cell_type": "code",
   "execution_count": 3,
   "metadata": {},
   "outputs": [
    {
     "name": "stdout",
     "output_type": "stream",
     "text": [
      "['Воронеж', 'Тула', 'Воронеж', 'Орел']\n",
      "{'Воронеж', 'Орел', 'Тула'}\n"
     ]
    }
   ],
   "source": [
    "cities = \"Воронеж, Тула, Воронеж, Орел\".split(\", \")\n",
    "print(cities)\n",
    "cities_set = set(cities)\n",
    "print(cities_set)"
   ]
  },
  {
   "attachments": {},
   "cell_type": "markdown",
   "metadata": {},
   "source": [
    "![jupyter](https://habrastorage.org/files/8dc/1ae/16d/8dc1ae16db9c4432938a8e79b97eefe3.png)"
   ]
  },
  {
   "cell_type": "code",
   "execution_count": 4,
   "metadata": {},
   "outputs": [],
   "source": [
    "rights = {'insert', 'update', 'dalete'}\n",
    "rights.add('')"
   ]
  },
  {
   "cell_type": "code",
   "execution_count": 5,
   "metadata": {},
   "outputs": [
    {
     "ename": "SyntaxError",
     "evalue": "invalid syntax (349104071.py, line 1)",
     "output_type": "error",
     "traceback": [
      "\u001b[1;36m  Cell \u001b[1;32mIn[5], line 1\u001b[1;36m\u001b[0m\n\u001b[1;33m    a | b {99, 1}\u001b[0m\n\u001b[1;37m          ^\u001b[0m\n\u001b[1;31mSyntaxError\u001b[0m\u001b[1;31m:\u001b[0m invalid syntax\n"
     ]
    }
   ],
   "source": [
    "a | b {99, 1}\n",
    "set.union(a, b, {99, 1})"
   ]
  }
 ],
 "metadata": {
  "kernelspec": {
   "display_name": "Python 3",
   "language": "python",
   "name": "python3"
  },
  "language_info": {
   "codemirror_mode": {
    "name": "ipython",
    "version": 3
   },
   "file_extension": ".py",
   "mimetype": "text/x-python",
   "name": "python",
   "nbconvert_exporter": "python",
   "pygments_lexer": "ipython3",
   "version": "3.11.2"
  },
  "orig_nbformat": 4
 },
 "nbformat": 4,
 "nbformat_minor": 2
}
