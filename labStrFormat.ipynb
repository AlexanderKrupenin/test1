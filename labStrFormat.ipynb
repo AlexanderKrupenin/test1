{
 "cells": [
  {
   "attachments": {},
   "cell_type": "markdown",
   "metadata": {},
   "source": [
    "# Форматирование строк"
   ]
  },
  {
   "attachments": {},
   "cell_type": "markdown",
   "metadata": {},
   "source": [
    "## конкатенация строк"
   ]
  },
  {
   "cell_type": "code",
   "execution_count": 154,
   "metadata": {},
   "outputs": [
    {
     "name": "stdout",
     "output_type": "stream",
     "text": [
      "Привет, меня зовут Миша. Мне 19 лет.\n"
     ]
    }
   ],
   "source": [
    "\n",
    "print(\"Привет, меня зовут \"+\"Миша\"+\". Мне \" +str(19) + \" лет.\")"
   ]
  },
  {
   "attachments": {},
   "cell_type": "markdown",
   "metadata": {},
   "source": [
    "## Строковый метод format"
   ]
  },
  {
   "cell_type": "code",
   "execution_count": 155,
   "metadata": {},
   "outputs": [
    {
     "name": "stdout",
     "output_type": "stream",
     "text": [
      "Привет, {}\n",
      "Привет, Катя\n",
      "Привет, Катя тебе уже 19 лет!\n",
      "Привет, Катя, Катя тебе уже 19 лет!\n",
      "Привет, r, e, w\n",
      "pi = 3.14\n"
     ]
    }
   ],
   "source": [
    "print(\"Привет, {}\")\n",
    "print(\"Привет, {}\".format(\"Катя\"))\n",
    "print(\"Привет, {} тебе уже {} лет!\".format(\"Катя\", 19))\n",
    "print(\"Привет, {0}, {0} тебе уже {1} лет!\".format(\"Катя\", 19))\n",
    "print(\"Привет, {3}, {2}, {1}\".format(*\"qwerty\"))\n",
    "print(\"{var} = {value}\".format(var = \"pi\", value = 3.14))"
   ]
  },
  {
   "attachments": {},
   "cell_type": "markdown",
   "metadata": {},
   "source": [
    "## % - форматирование"
   ]
  },
  {
   "cell_type": "code",
   "execution_count": 156,
   "metadata": {},
   "outputs": [
    {
     "name": "stdout",
     "output_type": "stream",
     "text": [
      "col_123456d\n",
      "Автобус № 256\n",
      "123\n",
      "  123\n",
      "123  \n",
      "pi = 3.142\n"
     ]
    }
   ],
   "source": [
    "# %d, %i\n",
    "# %f\n",
    "# %s\n",
    "\n",
    "print(\"col_%id\" %123456)\n",
    "print(\"%s № %d\" %(\"Автобус\", 256))\n",
    "print(\"%d\" % 123)\n",
    "print(\"%5d\" % 123)\n",
    "print(\"%-5d\" % 123)\n",
    "print(\"pi = %.3f\" % 3.1415)"
   ]
  },
  {
   "attachments": {},
   "cell_type": "markdown",
   "metadata": {},
   "source": [
    "## f-строки (интерполированные строки)"
   ]
  },
  {
   "cell_type": "code",
   "execution_count": 157,
   "metadata": {},
   "outputs": [
    {
     "name": "stdout",
     "output_type": "stream",
     "text": [
      "Привет, Маша!\n",
      "2\n"
     ]
    }
   ],
   "source": [
    "name =\"Маша\"\n",
    "print(f\"Привет, {name}!\")\n",
    "a = 1\n",
    "b = 2\n",
    "print(f\"{a if a > b else b}\")"
   ]
  },
  {
   "attachments": {},
   "cell_type": "markdown",
   "metadata": {},
   "source": [
    "## совместно с mini-language"
   ]
  },
  {
   "cell_type": "code",
   "execution_count": 158,
   "metadata": {},
   "outputs": [
    {
     "name": "stdout",
     "output_type": "stream",
     "text": [
      "Hello\n",
      "       Hello        \n",
      "Hello               \n",
      "               Hello\n",
      "_______Hello________\n",
      "Hello_______________\n",
      "_______________Hello\n"
     ]
    }
   ],
   "source": [
    "print(f\"{'Hello'}\")\n",
    "print(f\"{'Hello':^20}\")\n",
    "print(f\"{'Hello':<20}\")\n",
    "print(f\"{'Hello':>20}\")\n",
    "print(f\"{'Hello':_^20}\")\n",
    "print(f\"{'Hello':_<20}\")\n",
    "print(f\"{'Hello':_>20}\")"
   ]
  },
  {
   "cell_type": "code",
   "execution_count": 159,
   "metadata": {},
   "outputs": [
    {
     "name": "stdout",
     "output_type": "stream",
     "text": [
      "255\n",
      "11111111\n",
      "0b11111111\n",
      "377\n",
      "0o377\n",
      "ff\n",
      "0xff\n",
      "\n",
      "0b11111111\n",
      "0o377\n",
      "0xff\n"
     ]
    }
   ],
   "source": [
    "print(f\"{255}\")\n",
    "print(f\"{255:b}\")\n",
    "print(f\"{255:#b}\")\n",
    "\n",
    "print(f\"{255:o}\")\n",
    "print(f\"{255:#o}\")\n",
    "\n",
    "print(f\"{255:x}\")\n",
    "print(f\"{255:#x}\")\n",
    "\n",
    "print()\n",
    "print(bin (255))\n",
    "print(oct (255))\n",
    "print(hex (255))"
   ]
  },
  {
   "cell_type": "code",
   "execution_count": 160,
   "metadata": {},
   "outputs": [
    {
     "name": "stdout",
     "output_type": "stream",
     "text": [
      "123_213_123_112_412_443_596_432_582_384\n"
     ]
    }
   ],
   "source": [
    "x = 1232131231_124124_435964_32_5823_84\n",
    "print(f\"{x:_}\")"
   ]
  },
  {
   "attachments": {},
   "cell_type": "markdown",
   "metadata": {},
   "source": [
    "## Temolate-строки"
   ]
  },
  {
   "cell_type": "code",
   "execution_count": 161,
   "metadata": {},
   "outputs": [
    {
     "name": "stdout",
     "output_type": "stream",
     "text": [
      "<class 'string.Template'>\n",
      "Меня зовут Света. Мне 20 лет.\n"
     ]
    }
   ],
   "source": [
    "from string import Template\n",
    "\n",
    "name = \"Света\"\n",
    "age = 20\n",
    "v = Template(\"Меня зовут $name. Мне $age лет.\")\n",
    "print(type(v))\n",
    "print(v.substitute(name = name, age = age))"
   ]
  },
  {
   "cell_type": "code",
   "execution_count": null,
   "metadata": {},
   "outputs": [],
   "source": []
  }
 ],
 "metadata": {
  "kernelspec": {
   "display_name": "Python 3",
   "language": "python",
   "name": "python3"
  },
  "language_info": {
   "codemirror_mode": {
    "name": "ipython",
    "version": 3
   },
   "file_extension": ".py",
   "mimetype": "text/x-python",
   "name": "python",
   "nbconvert_exporter": "python",
   "pygments_lexer": "ipython3",
   "version": "3.11.2"
  },
  "orig_nbformat": 4,
  "vscode": {
   "interpreter": {
    "hash": "a01083cf92b876a102f17804cba04c9bfeb05330d4ea0330d77dfa876237a923"
   }
  }
 },
 "nbformat": 4,
 "nbformat_minor": 2
}
