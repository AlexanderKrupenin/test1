{
 "cells": [
  {
   "cell_type": "markdown",
   "metadata": {},
   "source": [
    "Privet"
   ]
  },
  {
   "cell_type": "code",
   "execution_count": 210,
   "metadata": {},
   "outputs": [
    {
     "name": "stdout",
     "output_type": "stream",
     "text": [
      "Hello WorldHello World\n",
      "Masha Molodes!\n",
      "Masha  Molodes!\n",
      "Vay! Molodes! Masha!\n"
     ]
    }
   ],
   "source": [
    "print  (\"Hello World\"*2)\n",
    "name = \"Masha\"\n",
    "print (name + \" Molodes!\")\n",
    "print (name , \" Molodes!\")\n",
    "print (f\"Vay! Molodes! {name}!\")"
   ]
  },
  {
   "cell_type": "code",
   "execution_count": 211,
   "metadata": {},
   "outputs": [
    {
     "name": "stdout",
     "output_type": "stream",
     "text": [
      "H e l l o   W o r l d\n",
      "H e l l o   W o r l d\n"
     ]
    }
   ],
   "source": [
    "print  (*\"Hello World\")\n",
    "print  (*\"Hello World\")"
   ]
  },
  {
   "cell_type": "code",
   "execution_count": 212,
   "metadata": {},
   "outputs": [
    {
     "name": "stdout",
     "output_type": "stream",
     "text": [
      "range(0, 5)\n",
      "0 1 2 3 4\n",
      "1 2 3 4 5 6 7 8 9\n",
      "1 3 5 7 9\n"
     ]
    }
   ],
   "source": [
    "print(range(5))\n",
    "print(*range(5))\n",
    "print(*range(1, 10))\n",
    "print(*range(1, 10, 2))"
   ]
  },
  {
   "cell_type": "code",
   "execution_count": 213,
   "metadata": {},
   "outputs": [
    {
     "name": "stdout",
     "output_type": "stream",
     "text": [
      "2\n",
      "3\n",
      "4\n",
      "5\n",
      "6\n",
      "7\n"
     ]
    }
   ],
   "source": [
    "for i in [2,3,4,5,6,7]:\n",
    "    print(i)"
   ]
  },
  {
   "cell_type": "code",
   "execution_count": 214,
   "metadata": {},
   "outputs": [
    {
     "name": "stdout",
     "output_type": "stream",
     "text": [
      "2\n",
      "3\n",
      "4\n",
      "5\n",
      "6\n",
      "7\n"
     ]
    }
   ],
   "source": [
    "for i in [2,3,4,5,6,7]:\n",
    "    print(i)"
   ]
  },
  {
   "cell_type": "code",
   "execution_count": 215,
   "metadata": {},
   "outputs": [
    {
     "name": "stdout",
     "output_type": "stream",
     "text": [
      "H\n",
      "e\n",
      "l\n",
      "l\n",
      "o\n"
     ]
    }
   ],
   "source": [
    "for i in \"Hello\":\n",
    "    print(i)"
   ]
  },
  {
   "cell_type": "code",
   "execution_count": 216,
   "metadata": {},
   "outputs": [
    {
     "name": "stdout",
     "output_type": "stream",
     "text": [
      "0, 1, 2, 3, 4, "
     ]
    }
   ],
   "source": [
    "for i in range(5):\n",
    "    print(i, end =', ')"
   ]
  },
  {
   "cell_type": "code",
   "execution_count": null,
   "metadata": {},
   "outputs": [],
   "source": []
  },
  {
   "cell_type": "code",
   "execution_count": 217,
   "metadata": {},
   "outputs": [
    {
     "name": "stdout",
     "output_type": "stream",
     "text": [
      "18\n",
      "Visual Studio CodeVisual Studio CodeVisual Studio Code\n"
     ]
    }
   ],
   "source": [
    "s = \"Visual Studio Code\"\n",
    "print(len (s))\n",
    "print(s * 3)"
   ]
  },
  {
   "cell_type": "code",
   "execution_count": 218,
   "metadata": {},
   "outputs": [
    {
     "name": "stdout",
     "output_type": "stream",
     "text": [
      "VISUAL STUDIO CODE\n",
      "visual studio code\n",
      "Visual Studio Code\n",
      "vISUAL sTUDIO cODE\n",
      "______Visual Studio Code______\n",
      "____________Visual Studio Code\n",
      "Visual Studio Code____________\n",
      "000000000000Visual Studio Code\n"
     ]
    }
   ],
   "source": [
    "print(s.upper())\n",
    "print(s.lower())\n",
    "print(s.lower().title())\n",
    "print(s.swapcase())\n",
    "print(s.center(30, '_'))\n",
    "print(s.rjust(30, '_'))\n",
    "print(s.ljust(30, '_'))\n",
    "print(s.zfill(30))"
   ]
  },
  {
   "cell_type": "code",
   "execution_count": 219,
   "metadata": {},
   "outputs": [
    {
     "name": "stdout",
     "output_type": "stream",
     "text": [
      "2\n",
      "6\n",
      "True\n",
      "True\n"
     ]
    }
   ],
   "source": [
    "print(s.count(' '))\n",
    "\n",
    "print(s.find(' ')) # если не то -1\n",
    "print(s.startswith('Vi'))\n",
    "print(\"123\".isdigit())\n"
   ]
  },
  {
   "cell_type": "code",
   "execution_count": 220,
   "metadata": {},
   "outputs": [
    {
     "name": "stdout",
     "output_type": "stream",
     "text": [
      "Visual Studio Code\n",
      "['Visual', 'Studio', 'Code']\n",
      "['Visual Studio Code']\n",
      "Visual___Studio___Code\n"
     ]
    }
   ],
   "source": [
    "print(s)\n",
    "print(s.split())\n",
    "print(s.splitlines())\n",
    "print(s.replace(' ','___'))"
   ]
  },
  {
   "cell_type": "code",
   "execution_count": 221,
   "metadata": {},
   "outputs": [
    {
     "name": "stdout",
     "output_type": "stream",
     "text": [
      "True\n",
      "False\n"
     ]
    }
   ],
   "source": [
    "print(\"Studio\" in s)\n",
    "print(\"Studio\" not in s)"
   ]
  },
  {
   "cell_type": "code",
   "execution_count": 222,
   "metadata": {},
   "outputs": [
    {
     "name": "stdout",
     "output_type": "stream",
     "text": [
      "V\n",
      "i\n",
      "s\n",
      "u\n"
     ]
    }
   ],
   "source": [
    "# [index]\n",
    "print(s[0])\n",
    "print(s[1])\n",
    "print(s[2])\n",
    "print(s[3])"
   ]
  },
  {
   "cell_type": "code",
   "execution_count": 223,
   "metadata": {},
   "outputs": [
    {
     "name": "stdout",
     "output_type": "stream",
     "text": [
      "Visual Studio Code\n",
      "sual Studio Code\n",
      "sual S\n",
      "de\n",
      "sltiC\n",
      "edoC oidutS lausiV\n"
     ]
    }
   ],
   "source": [
    "# [ start : end] - срез(слайз)\n",
    "print(s[:])\n",
    "print(s[2:])\n",
    "print(s[2:8])\n",
    "print(s[-2:])\n",
    "print(s[2:-2:3])\n",
    "print(s[::-1])"
   ]
  },
  {
   "cell_type": "code",
   "execution_count": 224,
   "metadata": {},
   "outputs": [
    {
     "name": "stdout",
     "output_type": "stream",
     "text": [
      "python\n"
     ]
    }
   ],
   "source": [
    "st = \"               python          \"\n",
    "print(st.strip())"
   ]
  },
  {
   "cell_type": "code",
   "execution_count": 225,
   "metadata": {},
   "outputs": [
    {
     "data": {
      "text/plain": [
       "'Январь, Февраль, Март'"
      ]
     },
     "execution_count": 225,
     "metadata": {},
     "output_type": "execute_result"
    }
   ],
   "source": [
    "', '.join([\"Январь\",\"Февраль\",\"Март\"])"
   ]
  }
 ],
 "metadata": {
  "kernelspec": {
   "display_name": "Python 3",
   "language": "python",
   "name": "python3"
  },
  "language_info": {
   "codemirror_mode": {
    "name": "ipython",
    "version": 3
   },
   "file_extension": ".py",
   "mimetype": "text/x-python",
   "name": "python",
   "nbconvert_exporter": "python",
   "pygments_lexer": "ipython3",
   "version": "3.11.2"
  },
  "orig_nbformat": 4,
  "vscode": {
   "interpreter": {
    "hash": "a01083cf92b876a102f17804cba04c9bfeb05330d4ea0330d77dfa876237a923"
   }
  }
 },
 "nbformat": 4,
 "nbformat_minor": 2
}
