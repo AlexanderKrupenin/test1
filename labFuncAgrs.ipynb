{
 "cells": [
  {
   "attachments": {},
   "cell_type": "markdown",
   "metadata": {},
   "source": [
    "# Аргументы функции\n",
    "* неизменяемые обьекты передаются по значению (т.е изменение внутри функции не изменить его во вне)\n",
    "* ижменяемые обьекты передаются по ссылке\n",
    "Помним:\n",
    "* неизменяемые [int float str tuple]\n",
    "* изменяемые [list set dist]"
   ]
  },
  {
   "cell_type": "code",
   "execution_count": 2,
   "metadata": {},
   "outputs": [],
   "source": [
    "# по значению\n",
    "def update_int(x):\n",
    "    x = 10\n",
    "    print(\"update_int: {x}\")\n",
    "\n",
    "    x = 1\n",
    "    update_int(x)\n",
    "    print(f\"{x}\")"
   ]
  },
  {
   "cell_type": "code",
   "execution_count": null,
   "metadata": {},
   "outputs": [],
   "source": []
  }
 ],
 "metadata": {
  "kernelspec": {
   "display_name": "Python 3",
   "language": "python",
   "name": "python3"
  },
  "language_info": {
   "codemirror_mode": {
    "name": "ipython",
    "version": 3
   },
   "file_extension": ".py",
   "mimetype": "text/x-python",
   "name": "python",
   "nbconvert_exporter": "python",
   "pygments_lexer": "ipython3",
   "version": "3.11.2"
  },
  "orig_nbformat": 4
 },
 "nbformat": 4,
 "nbformat_minor": 2
}
