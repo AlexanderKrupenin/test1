{
 "cells": [
  {
   "attachments": {},
   "cell_type": "markdown",
   "metadata": {},
   "source": [
    "# Список (list)\n",
    "Список (list) - упорядоченная изменяемая структура данных для хранения людых обьектов."
   ]
  },
  {
   "cell_type": "code",
   "execution_count": 6,
   "metadata": {},
   "outputs": [
    {
     "data": {
      "text/plain": [
       "[1, 2, 'hello', 3.14]"
      ]
     },
     "execution_count": 6,
     "metadata": {},
     "output_type": "execute_result"
    }
   ],
   "source": [
    "v = [1, 2, \"hello\", 3.14]\n",
    "v"
   ]
  },
  {
   "cell_type": "code",
   "execution_count": 7,
   "metadata": {},
   "outputs": [
    {
     "data": {
      "text/plain": [
       "list"
      ]
     },
     "execution_count": 7,
     "metadata": {},
     "output_type": "execute_result"
    }
   ],
   "source": [
    "type(v)"
   ]
  },
  {
   "cell_type": "code",
   "execution_count": 8,
   "metadata": {},
   "outputs": [
    {
     "data": {
      "text/plain": [
       "['H', 'e', 'l', 'l', 'o']"
      ]
     },
     "execution_count": 8,
     "metadata": {},
     "output_type": "execute_result"
    }
   ],
   "source": [
    "list(\"Hello\")"
   ]
  },
  {
   "cell_type": "code",
   "execution_count": 10,
   "metadata": {},
   "outputs": [
    {
     "name": "stdout",
     "output_type": "stream",
     "text": [
      "True\n",
      "False\n",
      "True\n"
     ]
    }
   ],
   "source": [
    "v = list(range(5))\n",
    "print(4 in v)\n",
    "print(5 in v)\n",
    "print(5 not in v)"
   ]
  },
  {
   "cell_type": "code",
   "execution_count": 13,
   "metadata": {},
   "outputs": [
    {
     "name": "stdout",
     "output_type": "stream",
     "text": [
      "['Минск', 'Гомель', 'Брест']\n",
      "['Минск', 'Гомель']\n"
     ]
    }
   ],
   "source": [
    "# cities = [\"\", \"\"]\n",
    "cities = \"Минск, Гомель, Брест\".split(\", \")\n",
    "print(cities)\n",
    "print(cities[0:2])"
   ]
  },
  {
   "cell_type": "code",
   "execution_count": 17,
   "metadata": {},
   "outputs": [
    {
     "name": "stdout",
     "output_type": "stream",
     "text": [
      "(0, 'Минск')\n",
      "(1, 'Гомель')\n",
      "(2, 'Брест')\n"
     ]
    }
   ],
   "source": [
    "for city in enumerate (cities):\n",
    "    #print(f\"Город {city}\")\n",
    "    print(city)\n"
   ]
  },
  {
   "cell_type": "code",
   "execution_count": 23,
   "metadata": {},
   "outputs": [
    {
     "name": "stdout",
     "output_type": "stream",
     "text": [
      "Город (1, 'Минск'): (2, 'Брест')\n",
      "Город (2, 'Гомель'): (2, 'Брест')\n",
      "Город (3, 'Брест'): (2, 'Брест')\n"
     ]
    }
   ],
   "source": [
    "for index in enumerate (cities, start=1):\n",
    "    print(f\"Город {index}: {city}\")"
   ]
  },
  {
   "cell_type": "code",
   "execution_count": 19,
   "metadata": {},
   "outputs": [
    {
     "name": "stdout",
     "output_type": "stream",
     "text": [
      "(0, 'H')\n",
      "(1, 'e')\n",
      "(2, 'l')\n",
      "(3, 'l')\n",
      "(4, 'o')\n"
     ]
    }
   ],
   "source": [
    "for x in enumerate (\"Hello\"):\n",
    "    print(x)"
   ]
  },
  {
   "cell_type": "code",
   "execution_count": 25,
   "metadata": {},
   "outputs": [
    {
     "name": "stdout",
     "output_type": "stream",
     "text": [
      "[0, 1, 2, 3, 4, 5, 6, 7, 8, 9]\n",
      "[0, -1, -2, -3, 4, 5, 6, 7, 8, 9]\n"
     ]
    }
   ],
   "source": [
    "v = list(range(10))\n",
    "print(v)\n",
    "v[1:4]= [-1, -2, -3]\n",
    "print(v)"
   ]
  },
  {
   "cell_type": "code",
   "execution_count": 8,
   "metadata": {},
   "outputs": [
    {
     "name": "stdout",
     "output_type": "stream",
     "text": [
      "[0, -1, -2, -3, 4, 5, 6, 7, 8, 9]\n",
      "[0, 1, 2, 3]\n"
     ]
    }
   ],
   "source": [
    "a = list(range(10))\n",
    "b = a[:4] #копия\n",
    "c = a     #ссылка\n",
    "a[1:4] = (-1,-2,-3)\n",
    "print(a)\n",
    "print(b)"
   ]
  },
  {
   "cell_type": "code",
   "execution_count": 29,
   "metadata": {},
   "outputs": [
    {
     "name": "stdout",
     "output_type": "stream",
     "text": [
      "['Минск', 'Севастополь', 'Гомель', 'Брест', 'Ялта']\n"
     ]
    }
   ],
   "source": [
    "cities = \"Минск, Гомель, Брест\".split(\", \")\n",
    "cities.append(\"Ялта\")\n",
    "cities.insert(1,\"Севастополь\")\n",
    "print(cities)"
   ]
  }
 ],
 "metadata": {
  "kernelspec": {
   "display_name": "Python 3",
   "language": "python",
   "name": "python3"
  },
  "language_info": {
   "codemirror_mode": {
    "name": "ipython",
    "version": 3
   },
   "file_extension": ".py",
   "mimetype": "text/x-python",
   "name": "python",
   "nbconvert_exporter": "python",
   "pygments_lexer": "ipython3",
   "version": "3.11.2"
  },
  "orig_nbformat": 4
 },
 "nbformat": 4,
 "nbformat_minor": 2
}
